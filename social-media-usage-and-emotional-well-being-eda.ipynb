{
 "cells": [
  {
   "cell_type": "code",
   "execution_count": 1,
   "id": "532bef16",
   "metadata": {
    "_cell_guid": "b1076dfc-b9ad-4769-8c92-a6c4dae69d19",
    "_uuid": "8f2839f25d086af736a60e9eeb907d3b93b6e0e5",
    "execution": {
     "iopub.execute_input": "2024-06-17T17:34:26.514232Z",
     "iopub.status.busy": "2024-06-17T17:34:26.513699Z",
     "iopub.status.idle": "2024-06-17T17:34:29.070893Z",
     "shell.execute_reply": "2024-06-17T17:34:29.069638Z"
    },
    "papermill": {
     "duration": 2.567962,
     "end_time": "2024-06-17T17:34:29.073614",
     "exception": false,
     "start_time": "2024-06-17T17:34:26.505652",
     "status": "completed"
    },
    "tags": []
   },
   "outputs": [],
   "source": [
    "import numpy as np \n",
    "import pandas as pd \n",
    "import matplotlib.pyplot as plt\n",
    "import seaborn as sns"
   ]
  },
  {
   "cell_type": "code",
   "execution_count": 2,
   "id": "819667fd",
   "metadata": {
    "execution": {
     "iopub.execute_input": "2024-06-17T17:34:29.088265Z",
     "iopub.status.busy": "2024-06-17T17:34:29.087687Z",
     "iopub.status.idle": "2024-06-17T17:34:29.123956Z",
     "shell.execute_reply": "2024-06-17T17:34:29.122666Z"
    },
    "papermill": {
     "duration": 0.046917,
     "end_time": "2024-06-17T17:34:29.126878",
     "exception": false,
     "start_time": "2024-06-17T17:34:29.079961",
     "status": "completed"
    },
    "tags": []
   },
   "outputs": [],
   "source": [
    "df=pd.read_csv(\"/kaggle/input/social-media-usage-and-emotional-well-being/test.csv\", index_col=\"User_ID\")"
   ]
  },
  {
   "cell_type": "code",
   "execution_count": 3,
   "id": "8993ce32",
   "metadata": {
    "execution": {
     "iopub.execute_input": "2024-06-17T17:34:29.140213Z",
     "iopub.status.busy": "2024-06-17T17:34:29.139808Z",
     "iopub.status.idle": "2024-06-17T17:34:29.160290Z",
     "shell.execute_reply": "2024-06-17T17:34:29.158903Z"
    },
    "papermill": {
     "duration": 0.030387,
     "end_time": "2024-06-17T17:34:29.163053",
     "exception": false,
     "start_time": "2024-06-17T17:34:29.132666",
     "status": "completed"
    },
    "tags": []
   },
   "outputs": [
    {
     "data": {
      "text/html": [
       "<div>\n",
       "<style scoped>\n",
       "    .dataframe tbody tr th:only-of-type {\n",
       "        vertical-align: middle;\n",
       "    }\n",
       "\n",
       "    .dataframe tbody tr th {\n",
       "        vertical-align: top;\n",
       "    }\n",
       "\n",
       "    .dataframe thead th {\n",
       "        text-align: right;\n",
       "    }\n",
       "</style>\n",
       "<table border=\"1\" class=\"dataframe\">\n",
       "  <thead>\n",
       "    <tr style=\"text-align: right;\">\n",
       "      <th></th>\n",
       "      <th>Age</th>\n",
       "      <th>Gender</th>\n",
       "      <th>Platform</th>\n",
       "      <th>Daily_Usage_Time (minutes)</th>\n",
       "      <th>Posts_Per_Day</th>\n",
       "      <th>Likes_Received_Per_Day</th>\n",
       "      <th>Comments_Received_Per_Day</th>\n",
       "      <th>Messages_Sent_Per_Day</th>\n",
       "      <th>Dominant_Emotion</th>\n",
       "    </tr>\n",
       "    <tr>\n",
       "      <th>User_ID</th>\n",
       "      <th></th>\n",
       "      <th></th>\n",
       "      <th></th>\n",
       "      <th></th>\n",
       "      <th></th>\n",
       "      <th></th>\n",
       "      <th></th>\n",
       "      <th></th>\n",
       "      <th></th>\n",
       "    </tr>\n",
       "  </thead>\n",
       "  <tbody>\n",
       "    <tr>\n",
       "      <th>500</th>\n",
       "      <td>27</td>\n",
       "      <td>Female</td>\n",
       "      <td>Snapchat</td>\n",
       "      <td>120</td>\n",
       "      <td>4</td>\n",
       "      <td>40</td>\n",
       "      <td>18</td>\n",
       "      <td>22</td>\n",
       "      <td>Neutral</td>\n",
       "    </tr>\n",
       "    <tr>\n",
       "      <th>488</th>\n",
       "      <td>21</td>\n",
       "      <td>Non-binary</td>\n",
       "      <td>Snapchat</td>\n",
       "      <td>60</td>\n",
       "      <td>1</td>\n",
       "      <td>18</td>\n",
       "      <td>7</td>\n",
       "      <td>12</td>\n",
       "      <td>Neutral</td>\n",
       "    </tr>\n",
       "    <tr>\n",
       "      <th>776</th>\n",
       "      <td>28</td>\n",
       "      <td>Non-binary</td>\n",
       "      <td>Snapchat</td>\n",
       "      <td>115</td>\n",
       "      <td>3</td>\n",
       "      <td>38</td>\n",
       "      <td>18</td>\n",
       "      <td>27</td>\n",
       "      <td>Anxiety</td>\n",
       "    </tr>\n",
       "    <tr>\n",
       "      <th>869</th>\n",
       "      <td>27</td>\n",
       "      <td>Male</td>\n",
       "      <td>Telegram</td>\n",
       "      <td>105</td>\n",
       "      <td>3</td>\n",
       "      <td>48</td>\n",
       "      <td>20</td>\n",
       "      <td>28</td>\n",
       "      <td>Anxiety</td>\n",
       "    </tr>\n",
       "    <tr>\n",
       "      <th>573</th>\n",
       "      <td>21</td>\n",
       "      <td>Non-binary</td>\n",
       "      <td>Facebook</td>\n",
       "      <td>55</td>\n",
       "      <td>3</td>\n",
       "      <td>17</td>\n",
       "      <td>7</td>\n",
       "      <td>12</td>\n",
       "      <td>Neutral</td>\n",
       "    </tr>\n",
       "  </tbody>\n",
       "</table>\n",
       "</div>"
      ],
      "text/plain": [
       "        Age      Gender  Platform  Daily_Usage_Time (minutes)  Posts_Per_Day  \\\n",
       "User_ID                                                                        \n",
       "500      27      Female  Snapchat                         120              4   \n",
       "488      21  Non-binary  Snapchat                          60              1   \n",
       "776      28  Non-binary  Snapchat                         115              3   \n",
       "869      27        Male  Telegram                         105              3   \n",
       "573      21  Non-binary  Facebook                          55              3   \n",
       "\n",
       "         Likes_Received_Per_Day  Comments_Received_Per_Day  \\\n",
       "User_ID                                                      \n",
       "500                          40                         18   \n",
       "488                          18                          7   \n",
       "776                          38                         18   \n",
       "869                          48                         20   \n",
       "573                          17                          7   \n",
       "\n",
       "         Messages_Sent_Per_Day Dominant_Emotion  \n",
       "User_ID                                          \n",
       "500                         22          Neutral  \n",
       "488                         12          Neutral  \n",
       "776                         27          Anxiety  \n",
       "869                         28          Anxiety  \n",
       "573                         12          Neutral  "
      ]
     },
     "execution_count": 3,
     "metadata": {},
     "output_type": "execute_result"
    }
   ],
   "source": [
    "df.head()"
   ]
  },
  {
   "cell_type": "code",
   "execution_count": 4,
   "id": "14c98e02",
   "metadata": {
    "execution": {
     "iopub.execute_input": "2024-06-17T17:34:29.177357Z",
     "iopub.status.busy": "2024-06-17T17:34:29.176950Z",
     "iopub.status.idle": "2024-06-17T17:34:29.193200Z",
     "shell.execute_reply": "2024-06-17T17:34:29.191821Z"
    },
    "papermill": {
     "duration": 0.0263,
     "end_time": "2024-06-17T17:34:29.195715",
     "exception": false,
     "start_time": "2024-06-17T17:34:29.169415",
     "status": "completed"
    },
    "tags": []
   },
   "outputs": [
    {
     "data": {
      "text/html": [
       "<div>\n",
       "<style scoped>\n",
       "    .dataframe tbody tr th:only-of-type {\n",
       "        vertical-align: middle;\n",
       "    }\n",
       "\n",
       "    .dataframe tbody tr th {\n",
       "        vertical-align: top;\n",
       "    }\n",
       "\n",
       "    .dataframe thead th {\n",
       "        text-align: right;\n",
       "    }\n",
       "</style>\n",
       "<table border=\"1\" class=\"dataframe\">\n",
       "  <thead>\n",
       "    <tr style=\"text-align: right;\">\n",
       "      <th></th>\n",
       "      <th>Age</th>\n",
       "      <th>Gender</th>\n",
       "      <th>Platform</th>\n",
       "      <th>Daily_Usage_Time (minutes)</th>\n",
       "      <th>Posts_Per_Day</th>\n",
       "      <th>Likes_Received_Per_Day</th>\n",
       "      <th>Comments_Received_Per_Day</th>\n",
       "      <th>Messages_Sent_Per_Day</th>\n",
       "      <th>Dominant_Emotion</th>\n",
       "    </tr>\n",
       "    <tr>\n",
       "      <th>User_ID</th>\n",
       "      <th></th>\n",
       "      <th></th>\n",
       "      <th></th>\n",
       "      <th></th>\n",
       "      <th></th>\n",
       "      <th></th>\n",
       "      <th></th>\n",
       "      <th></th>\n",
       "      <th></th>\n",
       "    </tr>\n",
       "  </thead>\n",
       "  <tbody>\n",
       "    <tr>\n",
       "      <th>184</th>\n",
       "      <td>22</td>\n",
       "      <td>Male</td>\n",
       "      <td>Twitter</td>\n",
       "      <td>70</td>\n",
       "      <td>1</td>\n",
       "      <td>20</td>\n",
       "      <td>5</td>\n",
       "      <td>22</td>\n",
       "      <td>Neutral</td>\n",
       "    </tr>\n",
       "    <tr>\n",
       "      <th>896</th>\n",
       "      <td>33</td>\n",
       "      <td>Male</td>\n",
       "      <td>LinkedIn</td>\n",
       "      <td>85</td>\n",
       "      <td>4</td>\n",
       "      <td>35</td>\n",
       "      <td>18</td>\n",
       "      <td>18</td>\n",
       "      <td>Boredom</td>\n",
       "    </tr>\n",
       "    <tr>\n",
       "      <th>708</th>\n",
       "      <td>24</td>\n",
       "      <td>Non-binary</td>\n",
       "      <td>Facebook</td>\n",
       "      <td>110</td>\n",
       "      <td>6</td>\n",
       "      <td>35</td>\n",
       "      <td>23</td>\n",
       "      <td>25</td>\n",
       "      <td>Sadness</td>\n",
       "    </tr>\n",
       "    <tr>\n",
       "      <th>993</th>\n",
       "      <td>24</td>\n",
       "      <td>Male</td>\n",
       "      <td>Telegram</td>\n",
       "      <td>75</td>\n",
       "      <td>3</td>\n",
       "      <td>37</td>\n",
       "      <td>16</td>\n",
       "      <td>22</td>\n",
       "      <td>Neutral</td>\n",
       "    </tr>\n",
       "    <tr>\n",
       "      <th>60</th>\n",
       "      <td>27</td>\n",
       "      <td>Male</td>\n",
       "      <td>Facebook</td>\n",
       "      <td>60</td>\n",
       "      <td>1</td>\n",
       "      <td>10</td>\n",
       "      <td>4</td>\n",
       "      <td>15</td>\n",
       "      <td>Boredom</td>\n",
       "    </tr>\n",
       "  </tbody>\n",
       "</table>\n",
       "</div>"
      ],
      "text/plain": [
       "        Age      Gender  Platform  Daily_Usage_Time (minutes)  Posts_Per_Day  \\\n",
       "User_ID                                                                        \n",
       "184      22        Male   Twitter                          70              1   \n",
       "896      33        Male  LinkedIn                          85              4   \n",
       "708      24  Non-binary  Facebook                         110              6   \n",
       "993      24        Male  Telegram                          75              3   \n",
       "60       27        Male  Facebook                          60              1   \n",
       "\n",
       "         Likes_Received_Per_Day  Comments_Received_Per_Day  \\\n",
       "User_ID                                                      \n",
       "184                          20                          5   \n",
       "896                          35                         18   \n",
       "708                          35                         23   \n",
       "993                          37                         16   \n",
       "60                           10                          4   \n",
       "\n",
       "         Messages_Sent_Per_Day Dominant_Emotion  \n",
       "User_ID                                          \n",
       "184                         22          Neutral  \n",
       "896                         18          Boredom  \n",
       "708                         25          Sadness  \n",
       "993                         22          Neutral  \n",
       "60                          15          Boredom  "
      ]
     },
     "execution_count": 4,
     "metadata": {},
     "output_type": "execute_result"
    }
   ],
   "source": [
    "df.tail()"
   ]
  },
  {
   "cell_type": "code",
   "execution_count": 5,
   "id": "e630ebeb",
   "metadata": {
    "execution": {
     "iopub.execute_input": "2024-06-17T17:34:29.210377Z",
     "iopub.status.busy": "2024-06-17T17:34:29.209961Z",
     "iopub.status.idle": "2024-06-17T17:34:29.217363Z",
     "shell.execute_reply": "2024-06-17T17:34:29.216241Z"
    },
    "papermill": {
     "duration": 0.017822,
     "end_time": "2024-06-17T17:34:29.220012",
     "exception": false,
     "start_time": "2024-06-17T17:34:29.202190",
     "status": "completed"
    },
    "tags": []
   },
   "outputs": [
    {
     "data": {
      "text/plain": [
       "(103, 9)"
      ]
     },
     "execution_count": 5,
     "metadata": {},
     "output_type": "execute_result"
    }
   ],
   "source": [
    "df.shape"
   ]
  },
  {
   "cell_type": "code",
   "execution_count": 6,
   "id": "b5cd8db8",
   "metadata": {
    "execution": {
     "iopub.execute_input": "2024-06-17T17:34:29.236362Z",
     "iopub.status.busy": "2024-06-17T17:34:29.235314Z",
     "iopub.status.idle": "2024-06-17T17:34:29.243113Z",
     "shell.execute_reply": "2024-06-17T17:34:29.241831Z"
    },
    "papermill": {
     "duration": 0.018742,
     "end_time": "2024-06-17T17:34:29.245755",
     "exception": false,
     "start_time": "2024-06-17T17:34:29.227013",
     "status": "completed"
    },
    "tags": []
   },
   "outputs": [
    {
     "data": {
      "text/plain": [
       "Index(['Age', 'Gender', 'Platform', 'Daily_Usage_Time (minutes)',\n",
       "       'Posts_Per_Day', 'Likes_Received_Per_Day', 'Comments_Received_Per_Day',\n",
       "       'Messages_Sent_Per_Day', 'Dominant_Emotion'],\n",
       "      dtype='object')"
      ]
     },
     "execution_count": 6,
     "metadata": {},
     "output_type": "execute_result"
    }
   ],
   "source": [
    "df.columns"
   ]
  },
  {
   "cell_type": "code",
   "execution_count": 7,
   "id": "9c2ab7fc",
   "metadata": {
    "execution": {
     "iopub.execute_input": "2024-06-17T17:34:29.261750Z",
     "iopub.status.busy": "2024-06-17T17:34:29.261327Z",
     "iopub.status.idle": "2024-06-17T17:34:29.271284Z",
     "shell.execute_reply": "2024-06-17T17:34:29.270109Z"
    },
    "papermill": {
     "duration": 0.02069,
     "end_time": "2024-06-17T17:34:29.273778",
     "exception": false,
     "start_time": "2024-06-17T17:34:29.253088",
     "status": "completed"
    },
    "tags": []
   },
   "outputs": [
    {
     "data": {
      "text/plain": [
       "Age                           0\n",
       "Gender                        0\n",
       "Platform                      0\n",
       "Daily_Usage_Time (minutes)    0\n",
       "Posts_Per_Day                 0\n",
       "Likes_Received_Per_Day        0\n",
       "Comments_Received_Per_Day     0\n",
       "Messages_Sent_Per_Day         0\n",
       "Dominant_Emotion              0\n",
       "dtype: int64"
      ]
     },
     "execution_count": 7,
     "metadata": {},
     "output_type": "execute_result"
    }
   ],
   "source": [
    "df.isnull().sum()"
   ]
  },
  {
   "cell_type": "code",
   "execution_count": 8,
   "id": "0d90f63e",
   "metadata": {
    "execution": {
     "iopub.execute_input": "2024-06-17T17:34:29.290787Z",
     "iopub.status.busy": "2024-06-17T17:34:29.290339Z",
     "iopub.status.idle": "2024-06-17T17:34:29.306861Z",
     "shell.execute_reply": "2024-06-17T17:34:29.305482Z"
    },
    "papermill": {
     "duration": 0.028546,
     "end_time": "2024-06-17T17:34:29.309535",
     "exception": false,
     "start_time": "2024-06-17T17:34:29.280989",
     "status": "completed"
    },
    "tags": []
   },
   "outputs": [
    {
     "data": {
      "text/plain": [
       "28"
      ]
     },
     "execution_count": 8,
     "metadata": {},
     "output_type": "execute_result"
    }
   ],
   "source": [
    "df.duplicated().sum()"
   ]
  },
  {
   "cell_type": "code",
   "execution_count": 9,
   "id": "b239010b",
   "metadata": {
    "execution": {
     "iopub.execute_input": "2024-06-17T17:34:29.326245Z",
     "iopub.status.busy": "2024-06-17T17:34:29.325367Z",
     "iopub.status.idle": "2024-06-17T17:34:29.334460Z",
     "shell.execute_reply": "2024-06-17T17:34:29.333105Z"
    },
    "papermill": {
     "duration": 0.020239,
     "end_time": "2024-06-17T17:34:29.336912",
     "exception": false,
     "start_time": "2024-06-17T17:34:29.316673",
     "status": "completed"
    },
    "tags": []
   },
   "outputs": [],
   "source": [
    "cleaned_df=df.drop_duplicates()"
   ]
  },
  {
   "cell_type": "code",
   "execution_count": 10,
   "id": "43d38604",
   "metadata": {
    "execution": {
     "iopub.execute_input": "2024-06-17T17:34:29.353731Z",
     "iopub.status.busy": "2024-06-17T17:34:29.352767Z",
     "iopub.status.idle": "2024-06-17T17:34:29.362976Z",
     "shell.execute_reply": "2024-06-17T17:34:29.361593Z"
    },
    "papermill": {
     "duration": 0.021472,
     "end_time": "2024-06-17T17:34:29.365719",
     "exception": false,
     "start_time": "2024-06-17T17:34:29.344247",
     "status": "completed"
    },
    "tags": []
   },
   "outputs": [
    {
     "data": {
      "text/plain": [
       "0"
      ]
     },
     "execution_count": 10,
     "metadata": {},
     "output_type": "execute_result"
    }
   ],
   "source": [
    "cleaned_df.duplicated().sum()"
   ]
  },
  {
   "cell_type": "code",
   "execution_count": 11,
   "id": "f23ee4fc",
   "metadata": {
    "execution": {
     "iopub.execute_input": "2024-06-17T17:34:29.382402Z",
     "iopub.status.busy": "2024-06-17T17:34:29.381954Z",
     "iopub.status.idle": "2024-06-17T17:34:29.392649Z",
     "shell.execute_reply": "2024-06-17T17:34:29.391369Z"
    },
    "papermill": {
     "duration": 0.022053,
     "end_time": "2024-06-17T17:34:29.395133",
     "exception": false,
     "start_time": "2024-06-17T17:34:29.373080",
     "status": "completed"
    },
    "tags": []
   },
   "outputs": [
    {
     "data": {
      "text/plain": [
       "Age                           16\n",
       "Gender                         5\n",
       "Platform                       7\n",
       "Daily_Usage_Time (minutes)    24\n",
       "Posts_Per_Day                  8\n",
       "Likes_Received_Per_Day        36\n",
       "Comments_Received_Per_Day     25\n",
       "Messages_Sent_Per_Day         22\n",
       "Dominant_Emotion               6\n",
       "dtype: int64"
      ]
     },
     "execution_count": 11,
     "metadata": {},
     "output_type": "execute_result"
    }
   ],
   "source": [
    "cleaned_df.nunique()"
   ]
  },
  {
   "cell_type": "code",
   "execution_count": 12,
   "id": "c38bb42d",
   "metadata": {
    "execution": {
     "iopub.execute_input": "2024-06-17T17:34:29.412210Z",
     "iopub.status.busy": "2024-06-17T17:34:29.411800Z",
     "iopub.status.idle": "2024-06-17T17:34:29.430752Z",
     "shell.execute_reply": "2024-06-17T17:34:29.429126Z"
    },
    "papermill": {
     "duration": 0.030958,
     "end_time": "2024-06-17T17:34:29.433843",
     "exception": false,
     "start_time": "2024-06-17T17:34:29.402885",
     "status": "completed"
    },
    "tags": []
   },
   "outputs": [
    {
     "data": {
      "text/html": [
       "<div>\n",
       "<style scoped>\n",
       "    .dataframe tbody tr th:only-of-type {\n",
       "        vertical-align: middle;\n",
       "    }\n",
       "\n",
       "    .dataframe tbody tr th {\n",
       "        vertical-align: top;\n",
       "    }\n",
       "\n",
       "    .dataframe thead th {\n",
       "        text-align: right;\n",
       "    }\n",
       "</style>\n",
       "<table border=\"1\" class=\"dataframe\">\n",
       "  <thead>\n",
       "    <tr style=\"text-align: right;\">\n",
       "      <th></th>\n",
       "      <th>Age</th>\n",
       "      <th>Gender</th>\n",
       "      <th>Platform</th>\n",
       "      <th>Daily_Usage_Time (minutes)</th>\n",
       "      <th>Posts_Per_Day</th>\n",
       "      <th>Likes_Received_Per_Day</th>\n",
       "      <th>Comments_Received_Per_Day</th>\n",
       "      <th>Messages_Sent_Per_Day</th>\n",
       "      <th>Dominant_Emotion</th>\n",
       "    </tr>\n",
       "    <tr>\n",
       "      <th>User_ID</th>\n",
       "      <th></th>\n",
       "      <th></th>\n",
       "      <th></th>\n",
       "      <th></th>\n",
       "      <th></th>\n",
       "      <th></th>\n",
       "      <th></th>\n",
       "      <th></th>\n",
       "      <th></th>\n",
       "    </tr>\n",
       "  </thead>\n",
       "  <tbody>\n",
       "    <tr>\n",
       "      <th>500</th>\n",
       "      <td>27</td>\n",
       "      <td>Female</td>\n",
       "      <td>Snapchat</td>\n",
       "      <td>120</td>\n",
       "      <td>4</td>\n",
       "      <td>40</td>\n",
       "      <td>18</td>\n",
       "      <td>22</td>\n",
       "      <td>Neutral</td>\n",
       "    </tr>\n",
       "    <tr>\n",
       "      <th>488</th>\n",
       "      <td>21</td>\n",
       "      <td>Non-binary</td>\n",
       "      <td>Snapchat</td>\n",
       "      <td>60</td>\n",
       "      <td>1</td>\n",
       "      <td>18</td>\n",
       "      <td>7</td>\n",
       "      <td>12</td>\n",
       "      <td>Neutral</td>\n",
       "    </tr>\n",
       "    <tr>\n",
       "      <th>776</th>\n",
       "      <td>28</td>\n",
       "      <td>Non-binary</td>\n",
       "      <td>Snapchat</td>\n",
       "      <td>115</td>\n",
       "      <td>3</td>\n",
       "      <td>38</td>\n",
       "      <td>18</td>\n",
       "      <td>27</td>\n",
       "      <td>Anxiety</td>\n",
       "    </tr>\n",
       "    <tr>\n",
       "      <th>869</th>\n",
       "      <td>27</td>\n",
       "      <td>Male</td>\n",
       "      <td>Telegram</td>\n",
       "      <td>105</td>\n",
       "      <td>3</td>\n",
       "      <td>48</td>\n",
       "      <td>20</td>\n",
       "      <td>28</td>\n",
       "      <td>Anxiety</td>\n",
       "    </tr>\n",
       "    <tr>\n",
       "      <th>573</th>\n",
       "      <td>21</td>\n",
       "      <td>Non-binary</td>\n",
       "      <td>Facebook</td>\n",
       "      <td>55</td>\n",
       "      <td>3</td>\n",
       "      <td>17</td>\n",
       "      <td>7</td>\n",
       "      <td>12</td>\n",
       "      <td>Neutral</td>\n",
       "    </tr>\n",
       "  </tbody>\n",
       "</table>\n",
       "</div>"
      ],
      "text/plain": [
       "        Age      Gender  Platform  Daily_Usage_Time (minutes)  Posts_Per_Day  \\\n",
       "User_ID                                                                        \n",
       "500      27      Female  Snapchat                         120              4   \n",
       "488      21  Non-binary  Snapchat                          60              1   \n",
       "776      28  Non-binary  Snapchat                         115              3   \n",
       "869      27        Male  Telegram                         105              3   \n",
       "573      21  Non-binary  Facebook                          55              3   \n",
       "\n",
       "         Likes_Received_Per_Day  Comments_Received_Per_Day  \\\n",
       "User_ID                                                      \n",
       "500                          40                         18   \n",
       "488                          18                          7   \n",
       "776                          38                         18   \n",
       "869                          48                         20   \n",
       "573                          17                          7   \n",
       "\n",
       "         Messages_Sent_Per_Day Dominant_Emotion  \n",
       "User_ID                                          \n",
       "500                         22          Neutral  \n",
       "488                         12          Neutral  \n",
       "776                         27          Anxiety  \n",
       "869                         28          Anxiety  \n",
       "573                         12          Neutral  "
      ]
     },
     "execution_count": 12,
     "metadata": {},
     "output_type": "execute_result"
    }
   ],
   "source": [
    "cleaned_df.head()"
   ]
  },
  {
   "cell_type": "code",
   "execution_count": 13,
   "id": "5a21ed8c",
   "metadata": {
    "execution": {
     "iopub.execute_input": "2024-06-17T17:34:29.452634Z",
     "iopub.status.busy": "2024-06-17T17:34:29.452217Z",
     "iopub.status.idle": "2024-06-17T17:34:29.468115Z",
     "shell.execute_reply": "2024-06-17T17:34:29.466834Z"
    },
    "papermill": {
     "duration": 0.02894,
     "end_time": "2024-06-17T17:34:29.471086",
     "exception": false,
     "start_time": "2024-06-17T17:34:29.442146",
     "status": "completed"
    },
    "tags": []
   },
   "outputs": [
    {
     "data": {
      "text/html": [
       "<div>\n",
       "<style scoped>\n",
       "    .dataframe tbody tr th:only-of-type {\n",
       "        vertical-align: middle;\n",
       "    }\n",
       "\n",
       "    .dataframe tbody tr th {\n",
       "        vertical-align: top;\n",
       "    }\n",
       "\n",
       "    .dataframe thead th {\n",
       "        text-align: right;\n",
       "    }\n",
       "</style>\n",
       "<table border=\"1\" class=\"dataframe\">\n",
       "  <thead>\n",
       "    <tr style=\"text-align: right;\">\n",
       "      <th></th>\n",
       "      <th>Age</th>\n",
       "      <th>Gender</th>\n",
       "      <th>Platform</th>\n",
       "      <th>Daily_Usage_Time (minutes)</th>\n",
       "      <th>Posts_Per_Day</th>\n",
       "      <th>Likes_Received_Per_Day</th>\n",
       "      <th>Comments_Received_Per_Day</th>\n",
       "      <th>Messages_Sent_Per_Day</th>\n",
       "      <th>Dominant_Emotion</th>\n",
       "    </tr>\n",
       "    <tr>\n",
       "      <th>User_ID</th>\n",
       "      <th></th>\n",
       "      <th></th>\n",
       "      <th></th>\n",
       "      <th></th>\n",
       "      <th></th>\n",
       "      <th></th>\n",
       "      <th></th>\n",
       "      <th></th>\n",
       "      <th></th>\n",
       "    </tr>\n",
       "  </thead>\n",
       "  <tbody>\n",
       "    <tr>\n",
       "      <th>476</th>\n",
       "      <td>28</td>\n",
       "      <td>Non-binary</td>\n",
       "      <td>Snapchat</td>\n",
       "      <td>115</td>\n",
       "      <td>3</td>\n",
       "      <td>38</td>\n",
       "      <td>18</td>\n",
       "      <td>26</td>\n",
       "      <td>Anxiety</td>\n",
       "    </tr>\n",
       "    <tr>\n",
       "      <th>418</th>\n",
       "      <td>27</td>\n",
       "      <td>Male</td>\n",
       "      <td>Twitter</td>\n",
       "      <td>90</td>\n",
       "      <td>3</td>\n",
       "      <td>40</td>\n",
       "      <td>16</td>\n",
       "      <td>24</td>\n",
       "      <td>Sadness</td>\n",
       "    </tr>\n",
       "    <tr>\n",
       "      <th>184</th>\n",
       "      <td>22</td>\n",
       "      <td>Male</td>\n",
       "      <td>Twitter</td>\n",
       "      <td>70</td>\n",
       "      <td>1</td>\n",
       "      <td>20</td>\n",
       "      <td>5</td>\n",
       "      <td>22</td>\n",
       "      <td>Neutral</td>\n",
       "    </tr>\n",
       "    <tr>\n",
       "      <th>896</th>\n",
       "      <td>33</td>\n",
       "      <td>Male</td>\n",
       "      <td>LinkedIn</td>\n",
       "      <td>85</td>\n",
       "      <td>4</td>\n",
       "      <td>35</td>\n",
       "      <td>18</td>\n",
       "      <td>18</td>\n",
       "      <td>Boredom</td>\n",
       "    </tr>\n",
       "    <tr>\n",
       "      <th>708</th>\n",
       "      <td>24</td>\n",
       "      <td>Non-binary</td>\n",
       "      <td>Facebook</td>\n",
       "      <td>110</td>\n",
       "      <td>6</td>\n",
       "      <td>35</td>\n",
       "      <td>23</td>\n",
       "      <td>25</td>\n",
       "      <td>Sadness</td>\n",
       "    </tr>\n",
       "  </tbody>\n",
       "</table>\n",
       "</div>"
      ],
      "text/plain": [
       "        Age      Gender  Platform  Daily_Usage_Time (minutes)  Posts_Per_Day  \\\n",
       "User_ID                                                                        \n",
       "476      28  Non-binary  Snapchat                         115              3   \n",
       "418      27        Male   Twitter                          90              3   \n",
       "184      22        Male   Twitter                          70              1   \n",
       "896      33        Male  LinkedIn                          85              4   \n",
       "708      24  Non-binary  Facebook                         110              6   \n",
       "\n",
       "         Likes_Received_Per_Day  Comments_Received_Per_Day  \\\n",
       "User_ID                                                      \n",
       "476                          38                         18   \n",
       "418                          40                         16   \n",
       "184                          20                          5   \n",
       "896                          35                         18   \n",
       "708                          35                         23   \n",
       "\n",
       "         Messages_Sent_Per_Day Dominant_Emotion  \n",
       "User_ID                                          \n",
       "476                         26          Anxiety  \n",
       "418                         24          Sadness  \n",
       "184                         22          Neutral  \n",
       "896                         18          Boredom  \n",
       "708                         25          Sadness  "
      ]
     },
     "execution_count": 13,
     "metadata": {},
     "output_type": "execute_result"
    }
   ],
   "source": [
    "cleaned_df.tail()"
   ]
  },
  {
   "cell_type": "code",
   "execution_count": 14,
   "id": "88da7c74",
   "metadata": {
    "execution": {
     "iopub.execute_input": "2024-06-17T17:34:29.489534Z",
     "iopub.status.busy": "2024-06-17T17:34:29.489157Z",
     "iopub.status.idle": "2024-06-17T17:34:29.521576Z",
     "shell.execute_reply": "2024-06-17T17:34:29.520364Z"
    },
    "papermill": {
     "duration": 0.045045,
     "end_time": "2024-06-17T17:34:29.524447",
     "exception": false,
     "start_time": "2024-06-17T17:34:29.479402",
     "status": "completed"
    },
    "tags": []
   },
   "outputs": [
    {
     "data": {
      "text/html": [
       "<div>\n",
       "<style scoped>\n",
       "    .dataframe tbody tr th:only-of-type {\n",
       "        vertical-align: middle;\n",
       "    }\n",
       "\n",
       "    .dataframe tbody tr th {\n",
       "        vertical-align: top;\n",
       "    }\n",
       "\n",
       "    .dataframe thead th {\n",
       "        text-align: right;\n",
       "    }\n",
       "</style>\n",
       "<table border=\"1\" class=\"dataframe\">\n",
       "  <thead>\n",
       "    <tr style=\"text-align: right;\">\n",
       "      <th></th>\n",
       "      <th>Daily_Usage_Time (minutes)</th>\n",
       "      <th>Posts_Per_Day</th>\n",
       "      <th>Likes_Received_Per_Day</th>\n",
       "      <th>Comments_Received_Per_Day</th>\n",
       "      <th>Messages_Sent_Per_Day</th>\n",
       "    </tr>\n",
       "  </thead>\n",
       "  <tbody>\n",
       "    <tr>\n",
       "      <th>count</th>\n",
       "      <td>75.000000</td>\n",
       "      <td>75.000000</td>\n",
       "      <td>75.000000</td>\n",
       "      <td>75.000000</td>\n",
       "      <td>75.000000</td>\n",
       "    </tr>\n",
       "    <tr>\n",
       "      <th>mean</th>\n",
       "      <td>89.200000</td>\n",
       "      <td>3.013333</td>\n",
       "      <td>35.146667</td>\n",
       "      <td>14.306667</td>\n",
       "      <td>21.120000</td>\n",
       "    </tr>\n",
       "    <tr>\n",
       "      <th>std</th>\n",
       "      <td>34.533963</td>\n",
       "      <td>1.766760</td>\n",
       "      <td>23.524969</td>\n",
       "      <td>8.488423</td>\n",
       "      <td>7.597937</td>\n",
       "    </tr>\n",
       "    <tr>\n",
       "      <th>min</th>\n",
       "      <td>40.000000</td>\n",
       "      <td>1.000000</td>\n",
       "      <td>5.000000</td>\n",
       "      <td>2.000000</td>\n",
       "      <td>10.000000</td>\n",
       "    </tr>\n",
       "    <tr>\n",
       "      <th>25%</th>\n",
       "      <td>62.500000</td>\n",
       "      <td>2.000000</td>\n",
       "      <td>18.000000</td>\n",
       "      <td>7.000000</td>\n",
       "      <td>16.000000</td>\n",
       "    </tr>\n",
       "    <tr>\n",
       "      <th>50%</th>\n",
       "      <td>80.000000</td>\n",
       "      <td>3.000000</td>\n",
       "      <td>30.000000</td>\n",
       "      <td>12.000000</td>\n",
       "      <td>20.000000</td>\n",
       "    </tr>\n",
       "    <tr>\n",
       "      <th>75%</th>\n",
       "      <td>105.000000</td>\n",
       "      <td>4.000000</td>\n",
       "      <td>45.000000</td>\n",
       "      <td>20.000000</td>\n",
       "      <td>25.500000</td>\n",
       "    </tr>\n",
       "    <tr>\n",
       "      <th>max</th>\n",
       "      <td>200.000000</td>\n",
       "      <td>8.000000</td>\n",
       "      <td>110.000000</td>\n",
       "      <td>40.000000</td>\n",
       "      <td>45.000000</td>\n",
       "    </tr>\n",
       "  </tbody>\n",
       "</table>\n",
       "</div>"
      ],
      "text/plain": [
       "       Daily_Usage_Time (minutes)  Posts_Per_Day  Likes_Received_Per_Day  \\\n",
       "count                   75.000000      75.000000               75.000000   \n",
       "mean                    89.200000       3.013333               35.146667   \n",
       "std                     34.533963       1.766760               23.524969   \n",
       "min                     40.000000       1.000000                5.000000   \n",
       "25%                     62.500000       2.000000               18.000000   \n",
       "50%                     80.000000       3.000000               30.000000   \n",
       "75%                    105.000000       4.000000               45.000000   \n",
       "max                    200.000000       8.000000              110.000000   \n",
       "\n",
       "       Comments_Received_Per_Day  Messages_Sent_Per_Day  \n",
       "count                  75.000000              75.000000  \n",
       "mean                   14.306667              21.120000  \n",
       "std                     8.488423               7.597937  \n",
       "min                     2.000000              10.000000  \n",
       "25%                     7.000000              16.000000  \n",
       "50%                    12.000000              20.000000  \n",
       "75%                    20.000000              25.500000  \n",
       "max                    40.000000              45.000000  "
      ]
     },
     "execution_count": 14,
     "metadata": {},
     "output_type": "execute_result"
    }
   ],
   "source": [
    "cleaned_df.describe()"
   ]
  },
  {
   "cell_type": "code",
   "execution_count": 15,
   "id": "8cd9a845",
   "metadata": {
    "execution": {
     "iopub.execute_input": "2024-06-17T17:34:29.543831Z",
     "iopub.status.busy": "2024-06-17T17:34:29.542897Z",
     "iopub.status.idle": "2024-06-17T17:34:29.551091Z",
     "shell.execute_reply": "2024-06-17T17:34:29.549677Z"
    },
    "papermill": {
     "duration": 0.020502,
     "end_time": "2024-06-17T17:34:29.553441",
     "exception": false,
     "start_time": "2024-06-17T17:34:29.532939",
     "status": "completed"
    },
    "tags": []
   },
   "outputs": [
    {
     "data": {
      "text/plain": [
       "Index(['Age', 'Gender', 'Platform', 'Daily_Usage_Time (minutes)',\n",
       "       'Posts_Per_Day', 'Likes_Received_Per_Day', 'Comments_Received_Per_Day',\n",
       "       'Messages_Sent_Per_Day', 'Dominant_Emotion'],\n",
       "      dtype='object')"
      ]
     },
     "execution_count": 15,
     "metadata": {},
     "output_type": "execute_result"
    }
   ],
   "source": [
    "cleaned_df.columns"
   ]
  }
 ],
 "metadata": {
  "kaggle": {
   "accelerator": "none",
   "dataSources": [
    {
     "datasetId": 5043355,
     "sourceId": 8460631,
     "sourceType": "datasetVersion"
    }
   ],
   "dockerImageVersionId": 30732,
   "isGpuEnabled": false,
   "isInternetEnabled": true,
   "language": "python",
   "sourceType": "notebook"
  },
  "kernelspec": {
   "display_name": "Python 3",
   "language": "python",
   "name": "python3"
  },
  "language_info": {
   "codemirror_mode": {
    "name": "ipython",
    "version": 3
   },
   "file_extension": ".py",
   "mimetype": "text/x-python",
   "name": "python",
   "nbconvert_exporter": "python",
   "pygments_lexer": "ipython3",
   "version": "3.10.13"
  },
  "papermill": {
   "default_parameters": {},
   "duration": 6.889249,
   "end_time": "2024-06-17T17:34:30.184414",
   "environment_variables": {},
   "exception": null,
   "input_path": "__notebook__.ipynb",
   "output_path": "__notebook__.ipynb",
   "parameters": {},
   "start_time": "2024-06-17T17:34:23.295165",
   "version": "2.5.0"
  }
 },
 "nbformat": 4,
 "nbformat_minor": 5
}
