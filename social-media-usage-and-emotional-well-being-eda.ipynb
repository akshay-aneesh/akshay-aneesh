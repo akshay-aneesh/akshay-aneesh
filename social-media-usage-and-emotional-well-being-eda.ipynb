{
 "cells": [
  {
   "cell_type": "code",
   "execution_count": 1,
   "id": "579a9afc",
   "metadata": {
    "_cell_guid": "b1076dfc-b9ad-4769-8c92-a6c4dae69d19",
    "_uuid": "8f2839f25d086af736a60e9eeb907d3b93b6e0e5",
    "execution": {
     "iopub.execute_input": "2024-06-16T11:50:22.728491Z",
     "iopub.status.busy": "2024-06-16T11:50:22.728011Z",
     "iopub.status.idle": "2024-06-16T11:50:25.366839Z",
     "shell.execute_reply": "2024-06-16T11:50:25.365524Z"
    },
    "papermill": {
     "duration": 2.649533,
     "end_time": "2024-06-16T11:50:25.369882",
     "exception": false,
     "start_time": "2024-06-16T11:50:22.720349",
     "status": "completed"
    },
    "tags": []
   },
   "outputs": [],
   "source": [
    "import numpy as np \n",
    "import pandas as pd \n",
    "import matplotlib.pyplot as plt\n",
    "import seaborn as sns"
   ]
  },
  {
   "cell_type": "code",
   "execution_count": 2,
   "id": "01802f7a",
   "metadata": {
    "execution": {
     "iopub.execute_input": "2024-06-16T11:50:25.384521Z",
     "iopub.status.busy": "2024-06-16T11:50:25.383977Z",
     "iopub.status.idle": "2024-06-16T11:50:25.417198Z",
     "shell.execute_reply": "2024-06-16T11:50:25.415867Z"
    },
    "papermill": {
     "duration": 0.043257,
     "end_time": "2024-06-16T11:50:25.420215",
     "exception": false,
     "start_time": "2024-06-16T11:50:25.376958",
     "status": "completed"
    },
    "tags": []
   },
   "outputs": [],
   "source": [
    "df=pd.read_csv(\"/kaggle/input/social-media-usage-and-emotional-well-being/test.csv\")"
   ]
  },
  {
   "cell_type": "code",
   "execution_count": 3,
   "id": "2ce84c72",
   "metadata": {
    "execution": {
     "iopub.execute_input": "2024-06-16T11:50:25.432408Z",
     "iopub.status.busy": "2024-06-16T11:50:25.431989Z",
     "iopub.status.idle": "2024-06-16T11:50:25.461011Z",
     "shell.execute_reply": "2024-06-16T11:50:25.459523Z"
    },
    "papermill": {
     "duration": 0.03833,
     "end_time": "2024-06-16T11:50:25.463775",
     "exception": false,
     "start_time": "2024-06-16T11:50:25.425445",
     "status": "completed"
    },
    "tags": []
   },
   "outputs": [
    {
     "data": {
      "text/html": [
       "<div>\n",
       "<style scoped>\n",
       "    .dataframe tbody tr th:only-of-type {\n",
       "        vertical-align: middle;\n",
       "    }\n",
       "\n",
       "    .dataframe tbody tr th {\n",
       "        vertical-align: top;\n",
       "    }\n",
       "\n",
       "    .dataframe thead th {\n",
       "        text-align: right;\n",
       "    }\n",
       "</style>\n",
       "<table border=\"1\" class=\"dataframe\">\n",
       "  <thead>\n",
       "    <tr style=\"text-align: right;\">\n",
       "      <th></th>\n",
       "      <th>User_ID</th>\n",
       "      <th>Age</th>\n",
       "      <th>Gender</th>\n",
       "      <th>Platform</th>\n",
       "      <th>Daily_Usage_Time (minutes)</th>\n",
       "      <th>Posts_Per_Day</th>\n",
       "      <th>Likes_Received_Per_Day</th>\n",
       "      <th>Comments_Received_Per_Day</th>\n",
       "      <th>Messages_Sent_Per_Day</th>\n",
       "      <th>Dominant_Emotion</th>\n",
       "    </tr>\n",
       "  </thead>\n",
       "  <tbody>\n",
       "    <tr>\n",
       "      <th>0</th>\n",
       "      <td>500</td>\n",
       "      <td>27</td>\n",
       "      <td>Female</td>\n",
       "      <td>Snapchat</td>\n",
       "      <td>120</td>\n",
       "      <td>4</td>\n",
       "      <td>40</td>\n",
       "      <td>18</td>\n",
       "      <td>22</td>\n",
       "      <td>Neutral</td>\n",
       "    </tr>\n",
       "    <tr>\n",
       "      <th>1</th>\n",
       "      <td>488</td>\n",
       "      <td>21</td>\n",
       "      <td>Non-binary</td>\n",
       "      <td>Snapchat</td>\n",
       "      <td>60</td>\n",
       "      <td>1</td>\n",
       "      <td>18</td>\n",
       "      <td>7</td>\n",
       "      <td>12</td>\n",
       "      <td>Neutral</td>\n",
       "    </tr>\n",
       "    <tr>\n",
       "      <th>2</th>\n",
       "      <td>776</td>\n",
       "      <td>28</td>\n",
       "      <td>Non-binary</td>\n",
       "      <td>Snapchat</td>\n",
       "      <td>115</td>\n",
       "      <td>3</td>\n",
       "      <td>38</td>\n",
       "      <td>18</td>\n",
       "      <td>27</td>\n",
       "      <td>Anxiety</td>\n",
       "    </tr>\n",
       "    <tr>\n",
       "      <th>3</th>\n",
       "      <td>869</td>\n",
       "      <td>27</td>\n",
       "      <td>Male</td>\n",
       "      <td>Telegram</td>\n",
       "      <td>105</td>\n",
       "      <td>3</td>\n",
       "      <td>48</td>\n",
       "      <td>20</td>\n",
       "      <td>28</td>\n",
       "      <td>Anxiety</td>\n",
       "    </tr>\n",
       "    <tr>\n",
       "      <th>4</th>\n",
       "      <td>573</td>\n",
       "      <td>21</td>\n",
       "      <td>Non-binary</td>\n",
       "      <td>Facebook</td>\n",
       "      <td>55</td>\n",
       "      <td>3</td>\n",
       "      <td>17</td>\n",
       "      <td>7</td>\n",
       "      <td>12</td>\n",
       "      <td>Neutral</td>\n",
       "    </tr>\n",
       "  </tbody>\n",
       "</table>\n",
       "</div>"
      ],
      "text/plain": [
       "   User_ID Age      Gender  Platform  Daily_Usage_Time (minutes)  \\\n",
       "0      500  27      Female  Snapchat                         120   \n",
       "1      488  21  Non-binary  Snapchat                          60   \n",
       "2      776  28  Non-binary  Snapchat                         115   \n",
       "3      869  27        Male  Telegram                         105   \n",
       "4      573  21  Non-binary  Facebook                          55   \n",
       "\n",
       "   Posts_Per_Day  Likes_Received_Per_Day  Comments_Received_Per_Day  \\\n",
       "0              4                      40                         18   \n",
       "1              1                      18                          7   \n",
       "2              3                      38                         18   \n",
       "3              3                      48                         20   \n",
       "4              3                      17                          7   \n",
       "\n",
       "   Messages_Sent_Per_Day Dominant_Emotion  \n",
       "0                     22          Neutral  \n",
       "1                     12          Neutral  \n",
       "2                     27          Anxiety  \n",
       "3                     28          Anxiety  \n",
       "4                     12          Neutral  "
      ]
     },
     "execution_count": 3,
     "metadata": {},
     "output_type": "execute_result"
    }
   ],
   "source": [
    "df.head()"
   ]
  },
  {
   "cell_type": "code",
   "execution_count": 4,
   "id": "745e452c",
   "metadata": {
    "execution": {
     "iopub.execute_input": "2024-06-16T11:50:25.477039Z",
     "iopub.status.busy": "2024-06-16T11:50:25.476565Z",
     "iopub.status.idle": "2024-06-16T11:50:25.493308Z",
     "shell.execute_reply": "2024-06-16T11:50:25.492022Z"
    },
    "papermill": {
     "duration": 0.02668,
     "end_time": "2024-06-16T11:50:25.496148",
     "exception": false,
     "start_time": "2024-06-16T11:50:25.469468",
     "status": "completed"
    },
    "tags": []
   },
   "outputs": [
    {
     "data": {
      "text/html": [
       "<div>\n",
       "<style scoped>\n",
       "    .dataframe tbody tr th:only-of-type {\n",
       "        vertical-align: middle;\n",
       "    }\n",
       "\n",
       "    .dataframe tbody tr th {\n",
       "        vertical-align: top;\n",
       "    }\n",
       "\n",
       "    .dataframe thead th {\n",
       "        text-align: right;\n",
       "    }\n",
       "</style>\n",
       "<table border=\"1\" class=\"dataframe\">\n",
       "  <thead>\n",
       "    <tr style=\"text-align: right;\">\n",
       "      <th></th>\n",
       "      <th>User_ID</th>\n",
       "      <th>Age</th>\n",
       "      <th>Gender</th>\n",
       "      <th>Platform</th>\n",
       "      <th>Daily_Usage_Time (minutes)</th>\n",
       "      <th>Posts_Per_Day</th>\n",
       "      <th>Likes_Received_Per_Day</th>\n",
       "      <th>Comments_Received_Per_Day</th>\n",
       "      <th>Messages_Sent_Per_Day</th>\n",
       "      <th>Dominant_Emotion</th>\n",
       "    </tr>\n",
       "  </thead>\n",
       "  <tbody>\n",
       "    <tr>\n",
       "      <th>98</th>\n",
       "      <td>184</td>\n",
       "      <td>22</td>\n",
       "      <td>Male</td>\n",
       "      <td>Twitter</td>\n",
       "      <td>70</td>\n",
       "      <td>1</td>\n",
       "      <td>20</td>\n",
       "      <td>5</td>\n",
       "      <td>22</td>\n",
       "      <td>Neutral</td>\n",
       "    </tr>\n",
       "    <tr>\n",
       "      <th>99</th>\n",
       "      <td>896</td>\n",
       "      <td>33</td>\n",
       "      <td>Male</td>\n",
       "      <td>LinkedIn</td>\n",
       "      <td>85</td>\n",
       "      <td>4</td>\n",
       "      <td>35</td>\n",
       "      <td>18</td>\n",
       "      <td>18</td>\n",
       "      <td>Boredom</td>\n",
       "    </tr>\n",
       "    <tr>\n",
       "      <th>100</th>\n",
       "      <td>708</td>\n",
       "      <td>24</td>\n",
       "      <td>Non-binary</td>\n",
       "      <td>Facebook</td>\n",
       "      <td>110</td>\n",
       "      <td>6</td>\n",
       "      <td>35</td>\n",
       "      <td>23</td>\n",
       "      <td>25</td>\n",
       "      <td>Sadness</td>\n",
       "    </tr>\n",
       "    <tr>\n",
       "      <th>101</th>\n",
       "      <td>993</td>\n",
       "      <td>24</td>\n",
       "      <td>Male</td>\n",
       "      <td>Telegram</td>\n",
       "      <td>75</td>\n",
       "      <td>3</td>\n",
       "      <td>37</td>\n",
       "      <td>16</td>\n",
       "      <td>22</td>\n",
       "      <td>Neutral</td>\n",
       "    </tr>\n",
       "    <tr>\n",
       "      <th>102</th>\n",
       "      <td>60</td>\n",
       "      <td>27</td>\n",
       "      <td>Male</td>\n",
       "      <td>Facebook</td>\n",
       "      <td>60</td>\n",
       "      <td>1</td>\n",
       "      <td>10</td>\n",
       "      <td>4</td>\n",
       "      <td>15</td>\n",
       "      <td>Boredom</td>\n",
       "    </tr>\n",
       "  </tbody>\n",
       "</table>\n",
       "</div>"
      ],
      "text/plain": [
       "     User_ID Age      Gender  Platform  Daily_Usage_Time (minutes)  \\\n",
       "98       184  22        Male   Twitter                          70   \n",
       "99       896  33        Male  LinkedIn                          85   \n",
       "100      708  24  Non-binary  Facebook                         110   \n",
       "101      993  24        Male  Telegram                          75   \n",
       "102       60  27        Male  Facebook                          60   \n",
       "\n",
       "     Posts_Per_Day  Likes_Received_Per_Day  Comments_Received_Per_Day  \\\n",
       "98               1                      20                          5   \n",
       "99               4                      35                         18   \n",
       "100              6                      35                         23   \n",
       "101              3                      37                         16   \n",
       "102              1                      10                          4   \n",
       "\n",
       "     Messages_Sent_Per_Day Dominant_Emotion  \n",
       "98                      22          Neutral  \n",
       "99                      18          Boredom  \n",
       "100                     25          Sadness  \n",
       "101                     22          Neutral  \n",
       "102                     15          Boredom  "
      ]
     },
     "execution_count": 4,
     "metadata": {},
     "output_type": "execute_result"
    }
   ],
   "source": [
    "df.tail()"
   ]
  },
  {
   "cell_type": "code",
   "execution_count": 5,
   "id": "a0a9dc3a",
   "metadata": {
    "execution": {
     "iopub.execute_input": "2024-06-16T11:50:25.510090Z",
     "iopub.status.busy": "2024-06-16T11:50:25.509656Z",
     "iopub.status.idle": "2024-06-16T11:50:25.517406Z",
     "shell.execute_reply": "2024-06-16T11:50:25.516207Z"
    },
    "papermill": {
     "duration": 0.017492,
     "end_time": "2024-06-16T11:50:25.519932",
     "exception": false,
     "start_time": "2024-06-16T11:50:25.502440",
     "status": "completed"
    },
    "tags": []
   },
   "outputs": [
    {
     "data": {
      "text/plain": [
       "(103, 10)"
      ]
     },
     "execution_count": 5,
     "metadata": {},
     "output_type": "execute_result"
    }
   ],
   "source": [
    "df.shape"
   ]
  },
  {
   "cell_type": "code",
   "execution_count": 6,
   "id": "cb14d841",
   "metadata": {
    "execution": {
     "iopub.execute_input": "2024-06-16T11:50:25.535563Z",
     "iopub.status.busy": "2024-06-16T11:50:25.534471Z",
     "iopub.status.idle": "2024-06-16T11:50:25.542781Z",
     "shell.execute_reply": "2024-06-16T11:50:25.541591Z"
    },
    "papermill": {
     "duration": 0.019253,
     "end_time": "2024-06-16T11:50:25.545617",
     "exception": false,
     "start_time": "2024-06-16T11:50:25.526364",
     "status": "completed"
    },
    "tags": []
   },
   "outputs": [
    {
     "data": {
      "text/plain": [
       "Index(['User_ID', 'Age', 'Gender', 'Platform', 'Daily_Usage_Time (minutes)',\n",
       "       'Posts_Per_Day', 'Likes_Received_Per_Day', 'Comments_Received_Per_Day',\n",
       "       'Messages_Sent_Per_Day', 'Dominant_Emotion'],\n",
       "      dtype='object')"
      ]
     },
     "execution_count": 6,
     "metadata": {},
     "output_type": "execute_result"
    }
   ],
   "source": [
    "df.columns"
   ]
  },
  {
   "cell_type": "code",
   "execution_count": 7,
   "id": "97b49133",
   "metadata": {
    "execution": {
     "iopub.execute_input": "2024-06-16T11:50:25.560032Z",
     "iopub.status.busy": "2024-06-16T11:50:25.559603Z",
     "iopub.status.idle": "2024-06-16T11:50:25.571319Z",
     "shell.execute_reply": "2024-06-16T11:50:25.570135Z"
    },
    "papermill": {
     "duration": 0.022301,
     "end_time": "2024-06-16T11:50:25.574294",
     "exception": false,
     "start_time": "2024-06-16T11:50:25.551993",
     "status": "completed"
    },
    "tags": []
   },
   "outputs": [
    {
     "data": {
      "text/plain": [
       "User_ID                       0\n",
       "Age                           0\n",
       "Gender                        0\n",
       "Platform                      0\n",
       "Daily_Usage_Time (minutes)    0\n",
       "Posts_Per_Day                 0\n",
       "Likes_Received_Per_Day        0\n",
       "Comments_Received_Per_Day     0\n",
       "Messages_Sent_Per_Day         0\n",
       "Dominant_Emotion              0\n",
       "dtype: int64"
      ]
     },
     "execution_count": 7,
     "metadata": {},
     "output_type": "execute_result"
    }
   ],
   "source": [
    "df.isnull().sum()"
   ]
  },
  {
   "cell_type": "code",
   "execution_count": 8,
   "id": "9554b3ef",
   "metadata": {
    "execution": {
     "iopub.execute_input": "2024-06-16T11:50:25.589237Z",
     "iopub.status.busy": "2024-06-16T11:50:25.588764Z",
     "iopub.status.idle": "2024-06-16T11:50:25.602769Z",
     "shell.execute_reply": "2024-06-16T11:50:25.601447Z"
    },
    "papermill": {
     "duration": 0.02458,
     "end_time": "2024-06-16T11:50:25.605405",
     "exception": false,
     "start_time": "2024-06-16T11:50:25.580825",
     "status": "completed"
    },
    "tags": []
   },
   "outputs": [
    {
     "data": {
      "text/plain": [
       "4"
      ]
     },
     "execution_count": 8,
     "metadata": {},
     "output_type": "execute_result"
    }
   ],
   "source": [
    "df.duplicated().sum()"
   ]
  },
  {
   "cell_type": "code",
   "execution_count": 9,
   "id": "fbf1b2dc",
   "metadata": {
    "execution": {
     "iopub.execute_input": "2024-06-16T11:50:25.620280Z",
     "iopub.status.busy": "2024-06-16T11:50:25.619865Z",
     "iopub.status.idle": "2024-06-16T11:50:25.631808Z",
     "shell.execute_reply": "2024-06-16T11:50:25.630593Z"
    },
    "papermill": {
     "duration": 0.022498,
     "end_time": "2024-06-16T11:50:25.634456",
     "exception": false,
     "start_time": "2024-06-16T11:50:25.611958",
     "status": "completed"
    },
    "tags": []
   },
   "outputs": [],
   "source": [
    "cleaned_df=df.drop_duplicates()"
   ]
  },
  {
   "cell_type": "code",
   "execution_count": 10,
   "id": "d82bd912",
   "metadata": {
    "execution": {
     "iopub.execute_input": "2024-06-16T11:50:25.649429Z",
     "iopub.status.busy": "2024-06-16T11:50:25.648987Z",
     "iopub.status.idle": "2024-06-16T11:50:25.660082Z",
     "shell.execute_reply": "2024-06-16T11:50:25.658729Z"
    },
    "papermill": {
     "duration": 0.021824,
     "end_time": "2024-06-16T11:50:25.662778",
     "exception": false,
     "start_time": "2024-06-16T11:50:25.640954",
     "status": "completed"
    },
    "tags": []
   },
   "outputs": [
    {
     "data": {
      "text/plain": [
       "0"
      ]
     },
     "execution_count": 10,
     "metadata": {},
     "output_type": "execute_result"
    }
   ],
   "source": [
    "cleaned_df.duplicated().sum()"
   ]
  },
  {
   "cell_type": "code",
   "execution_count": 11,
   "id": "934d9c2b",
   "metadata": {
    "execution": {
     "iopub.execute_input": "2024-06-16T11:50:25.677950Z",
     "iopub.status.busy": "2024-06-16T11:50:25.677517Z",
     "iopub.status.idle": "2024-06-16T11:50:25.690877Z",
     "shell.execute_reply": "2024-06-16T11:50:25.689592Z"
    },
    "papermill": {
     "duration": 0.024028,
     "end_time": "2024-06-16T11:50:25.693470",
     "exception": false,
     "start_time": "2024-06-16T11:50:25.669442",
     "status": "completed"
    },
    "tags": []
   },
   "outputs": [
    {
     "data": {
      "text/plain": [
       "User_ID                       98\n",
       "Age                           16\n",
       "Gender                         5\n",
       "Platform                       7\n",
       "Daily_Usage_Time (minutes)    24\n",
       "Posts_Per_Day                  8\n",
       "Likes_Received_Per_Day        36\n",
       "Comments_Received_Per_Day     25\n",
       "Messages_Sent_Per_Day         22\n",
       "Dominant_Emotion               6\n",
       "dtype: int64"
      ]
     },
     "execution_count": 11,
     "metadata": {},
     "output_type": "execute_result"
    }
   ],
   "source": [
    "cleaned_df.nunique()"
   ]
  },
  {
   "cell_type": "code",
   "execution_count": 12,
   "id": "31cd710a",
   "metadata": {
    "execution": {
     "iopub.execute_input": "2024-06-16T11:50:25.709139Z",
     "iopub.status.busy": "2024-06-16T11:50:25.708710Z",
     "iopub.status.idle": "2024-06-16T11:50:25.727384Z",
     "shell.execute_reply": "2024-06-16T11:50:25.726161Z"
    },
    "papermill": {
     "duration": 0.029663,
     "end_time": "2024-06-16T11:50:25.729995",
     "exception": false,
     "start_time": "2024-06-16T11:50:25.700332",
     "status": "completed"
    },
    "tags": []
   },
   "outputs": [
    {
     "data": {
      "text/html": [
       "<div>\n",
       "<style scoped>\n",
       "    .dataframe tbody tr th:only-of-type {\n",
       "        vertical-align: middle;\n",
       "    }\n",
       "\n",
       "    .dataframe tbody tr th {\n",
       "        vertical-align: top;\n",
       "    }\n",
       "\n",
       "    .dataframe thead th {\n",
       "        text-align: right;\n",
       "    }\n",
       "</style>\n",
       "<table border=\"1\" class=\"dataframe\">\n",
       "  <thead>\n",
       "    <tr style=\"text-align: right;\">\n",
       "      <th></th>\n",
       "      <th>User_ID</th>\n",
       "      <th>Age</th>\n",
       "      <th>Gender</th>\n",
       "      <th>Platform</th>\n",
       "      <th>Daily_Usage_Time (minutes)</th>\n",
       "      <th>Posts_Per_Day</th>\n",
       "      <th>Likes_Received_Per_Day</th>\n",
       "      <th>Comments_Received_Per_Day</th>\n",
       "      <th>Messages_Sent_Per_Day</th>\n",
       "      <th>Dominant_Emotion</th>\n",
       "    </tr>\n",
       "  </thead>\n",
       "  <tbody>\n",
       "    <tr>\n",
       "      <th>0</th>\n",
       "      <td>500</td>\n",
       "      <td>27</td>\n",
       "      <td>Female</td>\n",
       "      <td>Snapchat</td>\n",
       "      <td>120</td>\n",
       "      <td>4</td>\n",
       "      <td>40</td>\n",
       "      <td>18</td>\n",
       "      <td>22</td>\n",
       "      <td>Neutral</td>\n",
       "    </tr>\n",
       "    <tr>\n",
       "      <th>1</th>\n",
       "      <td>488</td>\n",
       "      <td>21</td>\n",
       "      <td>Non-binary</td>\n",
       "      <td>Snapchat</td>\n",
       "      <td>60</td>\n",
       "      <td>1</td>\n",
       "      <td>18</td>\n",
       "      <td>7</td>\n",
       "      <td>12</td>\n",
       "      <td>Neutral</td>\n",
       "    </tr>\n",
       "    <tr>\n",
       "      <th>2</th>\n",
       "      <td>776</td>\n",
       "      <td>28</td>\n",
       "      <td>Non-binary</td>\n",
       "      <td>Snapchat</td>\n",
       "      <td>115</td>\n",
       "      <td>3</td>\n",
       "      <td>38</td>\n",
       "      <td>18</td>\n",
       "      <td>27</td>\n",
       "      <td>Anxiety</td>\n",
       "    </tr>\n",
       "    <tr>\n",
       "      <th>3</th>\n",
       "      <td>869</td>\n",
       "      <td>27</td>\n",
       "      <td>Male</td>\n",
       "      <td>Telegram</td>\n",
       "      <td>105</td>\n",
       "      <td>3</td>\n",
       "      <td>48</td>\n",
       "      <td>20</td>\n",
       "      <td>28</td>\n",
       "      <td>Anxiety</td>\n",
       "    </tr>\n",
       "    <tr>\n",
       "      <th>4</th>\n",
       "      <td>573</td>\n",
       "      <td>21</td>\n",
       "      <td>Non-binary</td>\n",
       "      <td>Facebook</td>\n",
       "      <td>55</td>\n",
       "      <td>3</td>\n",
       "      <td>17</td>\n",
       "      <td>7</td>\n",
       "      <td>12</td>\n",
       "      <td>Neutral</td>\n",
       "    </tr>\n",
       "    <tr>\n",
       "      <th>5</th>\n",
       "      <td>428</td>\n",
       "      <td>25</td>\n",
       "      <td>Female</td>\n",
       "      <td>Instagram</td>\n",
       "      <td>160</td>\n",
       "      <td>6</td>\n",
       "      <td>85</td>\n",
       "      <td>26</td>\n",
       "      <td>30</td>\n",
       "      <td>Happiness</td>\n",
       "    </tr>\n",
       "    <tr>\n",
       "      <th>6</th>\n",
       "      <td>528</td>\n",
       "      <td>25</td>\n",
       "      <td>Female</td>\n",
       "      <td>Instagram</td>\n",
       "      <td>160</td>\n",
       "      <td>6</td>\n",
       "      <td>85</td>\n",
       "      <td>26</td>\n",
       "      <td>30</td>\n",
       "      <td>Happiness</td>\n",
       "    </tr>\n",
       "    <tr>\n",
       "      <th>7</th>\n",
       "      <td>773</td>\n",
       "      <td>21</td>\n",
       "      <td>Non-binary</td>\n",
       "      <td>Facebook</td>\n",
       "      <td>55</td>\n",
       "      <td>3</td>\n",
       "      <td>17</td>\n",
       "      <td>7</td>\n",
       "      <td>12</td>\n",
       "      <td>Neutral</td>\n",
       "    </tr>\n",
       "    <tr>\n",
       "      <th>8</th>\n",
       "      <td>382</td>\n",
       "      <td>24</td>\n",
       "      <td>Non-binary</td>\n",
       "      <td>Snapchat</td>\n",
       "      <td>85</td>\n",
       "      <td>3</td>\n",
       "      <td>33</td>\n",
       "      <td>20</td>\n",
       "      <td>18</td>\n",
       "      <td>Happiness</td>\n",
       "    </tr>\n",
       "    <tr>\n",
       "      <th>9</th>\n",
       "      <td>505</td>\n",
       "      <td>33</td>\n",
       "      <td>Male</td>\n",
       "      <td>LinkedIn</td>\n",
       "      <td>45</td>\n",
       "      <td>1</td>\n",
       "      <td>10</td>\n",
       "      <td>5</td>\n",
       "      <td>12</td>\n",
       "      <td>Boredom</td>\n",
       "    </tr>\n",
       "    <tr>\n",
       "      <th>10</th>\n",
       "      <td>20</td>\n",
       "      <td>32</td>\n",
       "      <td>Female</td>\n",
       "      <td>Instagram</td>\n",
       "      <td>140</td>\n",
       "      <td>5</td>\n",
       "      <td>70</td>\n",
       "      <td>22</td>\n",
       "      <td>33</td>\n",
       "      <td>Happiness</td>\n",
       "    </tr>\n",
       "  </tbody>\n",
       "</table>\n",
       "</div>"
      ],
      "text/plain": [
       "    User_ID Age      Gender   Platform  Daily_Usage_Time (minutes)  \\\n",
       "0       500  27      Female   Snapchat                         120   \n",
       "1       488  21  Non-binary   Snapchat                          60   \n",
       "2       776  28  Non-binary   Snapchat                         115   \n",
       "3       869  27        Male   Telegram                         105   \n",
       "4       573  21  Non-binary   Facebook                          55   \n",
       "5       428  25      Female  Instagram                         160   \n",
       "6       528  25      Female  Instagram                         160   \n",
       "7       773  21  Non-binary   Facebook                          55   \n",
       "8       382  24  Non-binary   Snapchat                          85   \n",
       "9       505  33        Male   LinkedIn                          45   \n",
       "10       20  32      Female  Instagram                         140   \n",
       "\n",
       "    Posts_Per_Day  Likes_Received_Per_Day  Comments_Received_Per_Day  \\\n",
       "0               4                      40                         18   \n",
       "1               1                      18                          7   \n",
       "2               3                      38                         18   \n",
       "3               3                      48                         20   \n",
       "4               3                      17                          7   \n",
       "5               6                      85                         26   \n",
       "6               6                      85                         26   \n",
       "7               3                      17                          7   \n",
       "8               3                      33                         20   \n",
       "9               1                      10                          5   \n",
       "10              5                      70                         22   \n",
       "\n",
       "    Messages_Sent_Per_Day Dominant_Emotion  \n",
       "0                      22          Neutral  \n",
       "1                      12          Neutral  \n",
       "2                      27          Anxiety  \n",
       "3                      28          Anxiety  \n",
       "4                      12          Neutral  \n",
       "5                      30        Happiness  \n",
       "6                      30        Happiness  \n",
       "7                      12          Neutral  \n",
       "8                      18        Happiness  \n",
       "9                      12          Boredom  \n",
       "10                     33        Happiness  "
      ]
     },
     "execution_count": 12,
     "metadata": {},
     "output_type": "execute_result"
    }
   ],
   "source": [
    "cleaned_df.head(11)"
   ]
  },
  {
   "cell_type": "code",
   "execution_count": null,
   "id": "841d0896",
   "metadata": {
    "papermill": {
     "duration": 0.006939,
     "end_time": "2024-06-16T11:50:25.744034",
     "exception": false,
     "start_time": "2024-06-16T11:50:25.737095",
     "status": "completed"
    },
    "tags": []
   },
   "outputs": [],
   "source": []
  }
 ],
 "metadata": {
  "kaggle": {
   "accelerator": "none",
   "dataSources": [
    {
     "datasetId": 5043355,
     "sourceId": 8460631,
     "sourceType": "datasetVersion"
    }
   ],
   "dockerImageVersionId": 30732,
   "isGpuEnabled": false,
   "isInternetEnabled": true,
   "language": "python",
   "sourceType": "notebook"
  },
  "kernelspec": {
   "display_name": "Python 3",
   "language": "python",
   "name": "python3"
  },
  "language_info": {
   "codemirror_mode": {
    "name": "ipython",
    "version": 3
   },
   "file_extension": ".py",
   "mimetype": "text/x-python",
   "name": "python",
   "nbconvert_exporter": "python",
   "pygments_lexer": "ipython3",
   "version": "3.10.13"
  },
  "papermill": {
   "default_parameters": {},
   "duration": 7.424708,
   "end_time": "2024-06-16T11:50:26.373533",
   "environment_variables": {},
   "exception": null,
   "input_path": "__notebook__.ipynb",
   "output_path": "__notebook__.ipynb",
   "parameters": {},
   "start_time": "2024-06-16T11:50:18.948825",
   "version": "2.5.0"
  }
 },
 "nbformat": 4,
 "nbformat_minor": 5
}
